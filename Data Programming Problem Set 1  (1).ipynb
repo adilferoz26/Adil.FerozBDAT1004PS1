{
 "cells": [
  {
   "cell_type": "markdown",
   "metadata": {},
   "source": [
    "# Question 1\n",
    "What data type is each of the following?\n",
    "\n",
    "A) 5; \n",
    " B) 5.0; \n",
    " C) 5 > 1; \n",
    " D) '5'; \n",
    " E) 5 * 2; \n",
    " F) '5' * 2; \n",
    " G) '5' + '2'; \n",
    " H) 5 / 2; \n",
    " I) 5 // 2; \n",
    " J) [5, 2, 1]; \n",
    " K) 5 in [1, 4, 6]; \n",
    " L) math.pi. "
   ]
  },
  {
   "cell_type": "code",
   "execution_count": 2,
   "metadata": {},
   "outputs": [
    {
     "name": "stdout",
     "output_type": "stream",
     "text": [
      "the data type of 5 is :  <class 'int'>\n",
      "the data type of 5 is :  <class 'float'>\n",
      "the data type of 5 is :  <class 'bool'>\n",
      "the data type of 5 is :  <class 'str'>\n",
      "the data type of 5 is :  <class 'int'>\n",
      "the data type of 5 is :  <class 'str'>\n",
      "the data type of 5 is :  <class 'str'>\n",
      "the data type of 5 is :  <class 'float'>\n",
      "the data type of 5 is :  <class 'int'>\n",
      "the data type of 5 is :  <class 'list'>\n",
      "the data type of 5 is :  <class 'bool'>\n",
      "the data type of 5 is :  <class 'float'>\n"
     ]
    }
   ],
   "source": [
    "print ('the data type of 5 is : ', type(5)) \n",
    "print ('the data type of 5 is : ', type(5.0)) \n",
    "print ('the data type of 5 is : ', type(5>1)) \n",
    "print ('the data type of 5 is : ', type('5')) \n",
    "print ('the data type of 5 is : ', type(5*2)) \n",
    "print ('the data type of 5 is : ', type('5'*2)) \n",
    "print ('the data type of 5 is : ', type('5'+'2')) \n",
    "print ('the data type of 5 is : ', type(5/2)) \n",
    "print ('the data type of 5 is : ', type(5//2)) \n",
    "print ('the data type of 5 is : ', type([5,2,1])) \n",
    "print ('the data type of 5 is : ', type(5 in [1,4,6])) \n",
    "import math\n",
    "print ('the data type of 5 is : ', type(math.pi)) "
   ]
  },
  {
   "cell_type": "markdown",
   "metadata": {},
   "source": [
    "# Question 2\n",
    "Write (and evaluate) Python expressions that answer these questions:\n"
   ]
  },
  {
   "cell_type": "markdown",
   "metadata": {},
   "source": [
    "A) How many letters are there in 'Supercalifragilisticexpialidocious' ?"
   ]
  },
  {
   "cell_type": "code",
   "execution_count": 3,
   "metadata": {},
   "outputs": [
    {
     "name": "stdout",
     "output_type": "stream",
     "text": [
      " Number of letter in Supercalifragilisticexpialidocious : 34\n"
     ]
    }
   ],
   "source": [
    "print (' Number of letter in Supercalifragilisticexpialidocious :',len('Supercalifragilisticexpialidocious')) #using len command to get the length of the string"
   ]
  },
  {
   "cell_type": "markdown",
   "metadata": {},
   "source": [
    "B) Does 'Supercalifragilisticexpialidocious' contain 'ice' as a substring? "
   ]
  },
  {
   "cell_type": "code",
   "execution_count": 4,
   "metadata": {},
   "outputs": [
    {
     "name": "stdout",
     "output_type": "stream",
     "text": [
      "Supercalifragilisticexpialidocious has \"Ice\" as sub-string\n"
     ]
    }
   ],
   "source": [
    "string = 'Supercalifragilisticexpialidocious' #assigning the string to the variable'string'\n",
    "subString = 'ice' #assigning the sub-string to the variable 'sub-string'\n",
    "if subString in string: #checks whether the sub-string is present in the string\n",
    "    print ('Supercalifragilisticexpialidocious has \"Ice\" as sub-string')\n",
    "    "
   ]
  },
  {
   "cell_type": "markdown",
   "metadata": {},
   "source": [
    "C) Which of the following words is the longest: Supercalifragilisticexpialidocious, Honorificabilitudinitatibus, or Bababadalgharaghtakamminarronnkonn? "
   ]
  },
  {
   "cell_type": "code",
   "execution_count": 19,
   "metadata": {},
   "outputs": [
    {
     "name": "stdout",
     "output_type": "stream",
     "text": [
      "Longest word from Supercalifragilisticexpialidocious, Honorificabilitudinitatibus, Bababadalgharaghtakamminarronnkonn is :\n",
      " Supercalifragilisticexpialidocious\n"
     ]
    }
   ],
   "source": [
    "word1 = 'Supercalifragilisticexpialidocious' #assigning a string to the variable 'word1'\n",
    "word2 = 'Honorificabilitudinitatibus' #assigning a string to the variable 'word2'\n",
    "word3 = 'Bababadalgharaghtakamminarronnkonn' #assigning a string to the variable 'word3'\n",
    "\n",
    "LongestWord = [word1, word2, word3] #assigning a list to a variable 'LongestWord'\n",
    "\n",
    "print('Longest word from Supercalifragilisticexpialidocious, Honorificabilitudinitatibus, Bababadalgharaghtakamminarronnkonn is :\\n',max(LongestWord))\n",
    "#max gives the longest string in the list"
   ]
  },
  {
   "cell_type": "markdown",
   "metadata": {},
   "source": [
    "D) Which composer comes first in the dictionary: 'Berlioz', 'Borodin', 'Brian', 'Bartok', 'Bellini', 'Buxtehude', 'Bernstein'. Which one comes last?"
   ]
  },
  {
   "cell_type": "code",
   "execution_count": 20,
   "metadata": {},
   "outputs": [
    {
     "name": "stdout",
     "output_type": "stream",
     "text": [
      "First composer's name in the dictionary is :  Bartok\n",
      "Last composer's name in the dictionary is :  Buxtehude\n"
     ]
    }
   ],
   "source": [
    "dictionary = ['Berlioz', 'Borodin', 'Brian', 'Bartok', 'Bellini', 'Buxtehude', 'Bernstein'] #initialising a list called 'dictionary'\n",
    "dictionary.sort() #sorts the list in alphabetical order \n",
    "print (\"First composer's name in the dictionary is : \",dictionary[0])#print the message and also the word at index 0 of the list, which is first name\n",
    "print (\"Last composer's name in the dictionary is : \",dictionary[6]) #print the message and also the word at index 6 of the list, which is last name"
   ]
  },
  {
   "cell_type": "markdown",
   "metadata": {},
   "source": [
    "# Question 3\n",
    "\n",
    "A) Write a function inside(x,y,x1,y1,x2,y2) that returns True or False depending on whether the point (x,y) lies in the rectangle with lower left corner (x1,y1) and upper right corner (x2,y2).\n",
    "inside(1,1,0,0,2,3) / inside(-1,-1,0,0,2,3)"
   ]
  },
  {
   "cell_type": "code",
   "execution_count": 23,
   "metadata": {},
   "outputs": [],
   "source": [
    "def inside(x, y, x1, y1, x2, y2) : #defining the function which take the input as points for the recctangle\n",
    "    if (x > x1 and x < x2) and (y > y1 and y < y2) : #if statement checks whether the point is inside the rectangle or not\n",
    "        return True #returns true if the point is inside the rectangle\n",
    "    \n",
    "    else : \n",
    "        return False #returns false if the point is outside the rectangle"
   ]
  },
  {
   "cell_type": "code",
   "execution_count": 24,
   "metadata": {},
   "outputs": [
    {
     "data": {
      "text/plain": [
       "True"
      ]
     },
     "execution_count": 24,
     "metadata": {},
     "output_type": "execute_result"
    }
   ],
   "source": [
    "inside(1,1,0,0,2,3)"
   ]
  },
  {
   "cell_type": "code",
   "execution_count": 25,
   "metadata": {},
   "outputs": [
    {
     "data": {
      "text/plain": [
       "False"
      ]
     },
     "execution_count": 25,
     "metadata": {},
     "output_type": "execute_result"
    }
   ],
   "source": [
    "inside(-1,-1,0,0,2,3)"
   ]
  },
  {
   "cell_type": "markdown",
   "metadata": {},
   "source": [
    "B) Use function inside() from part a. to write an expression that tests whether the point (1,1) lies in both of the following rectangles: one with lower left corner (0.3, 0.5) and upper right corner (1.1, 0.7) and the other with lower left corner (0.5, 0.2) and upper right corner (1.1, 2)."
   ]
  },
  {
   "cell_type": "code",
   "execution_count": 26,
   "metadata": {},
   "outputs": [
    {
     "name": "stdout",
     "output_type": "stream",
     "text": [
      "1 1 0.3 0.5 1.1 0.7\n",
      "The point (1,1) lies outside the rectangle with lower left corner (0.3, 0.5) and upper right corner (1.1, 0.7)\n"
     ]
    }
   ],
   "source": [
    "def inside(x, y, x1, y1, x2, y2) : \n",
    "    if (x > x1 and x < x2) and (y > y1 and y < y2) : \n",
    "        print ('The point (1,1) lies inside the rectangle with lower left corner (0.3, 0.5) and upper right corner (1.1, 0.7) ')\n",
    "    \n",
    "    else : \n",
    "        print ('The point (1,1) lies outside the rectangle with lower left corner (0.3, 0.5) and upper right corner (1.1, 0.7)')\n",
    "(x,y,x1,y1,x2,y2) = input().split()\n",
    "inside(x, y, x1, y1, x2, y2)"
   ]
  },
  {
   "cell_type": "code",
   "execution_count": 27,
   "metadata": {},
   "outputs": [
    {
     "name": "stdout",
     "output_type": "stream",
     "text": [
      "1 1 0.5 0.2 1.1 2\n",
      "The point (1,1) lies inside the rectangle with lower left corner (0.5, 0.2) and upper right corner (1.1, 2) \n"
     ]
    }
   ],
   "source": [
    "def inside(x, y, x1, y1, x2, y2) : \n",
    "    if (x > x1 and x < x2) and (y > y1 and y < y2) : \n",
    "        print ('The point (1,1) lies inside the rectangle with lower left corner (0.5, 0.2) and upper right corner (1.1, 2) ')\n",
    "    \n",
    "    else : \n",
    "        print ('The point (1,1) lies outside the rectangle with lower left corner (0.5, 0.2) and upper right corner (1.1, 2)')\n",
    "(x,y,x1,y1,x2,y2) = input().split()\n",
    "inside(x, y, x1, y1, x2, y2)"
   ]
  },
  {
   "cell_type": "markdown",
   "metadata": {},
   "source": [
    "# Question 4\n",
    "Write a function pig() that takes a word (i.e., a string) as input and returns its pigLatin form. Your function should still work if the input word contains upper case characters. Your output should always be lower case however."
   ]
  },
  {
   "cell_type": "code",
   "execution_count": 28,
   "metadata": {},
   "outputs": [],
   "source": [
    "def pigLatin(word): #defining my function name pigLatin\n",
    "    word1 = word.lower() #changing my string to lower case\n",
    "    if word1[0] in {'a','e','i','o','u'}: #simple if statement to check whteher the fisrt letter in the string is a vowel or not\n",
    "        return word1 + 'way'#if the first letter is vowel, it returns the words in lower case and appends 'way' to the word\n",
    "    else: \n",
    "        return word1[1:] + word1[0] + 'ay' #if the fisrt letter is not a vowel, returns the word from index[1 to n-1, n] adds the first letter at index[0] to the word and also adds 'ay' at  the end"
   ]
  },
  {
   "cell_type": "code",
   "execution_count": 29,
   "metadata": {},
   "outputs": [
    {
     "data": {
      "text/plain": [
       "'adilway'"
      ]
     },
     "execution_count": 29,
     "metadata": {},
     "output_type": "execute_result"
    }
   ],
   "source": [
    "pigLatin('Adil')"
   ]
  },
  {
   "cell_type": "code",
   "execution_count": 30,
   "metadata": {},
   "outputs": [
    {
     "data": {
      "text/plain": [
       "'erozfay'"
      ]
     },
     "execution_count": 30,
     "metadata": {},
     "output_type": "execute_result"
    }
   ],
   "source": [
    "pigLatin('Feroz')"
   ]
  },
  {
   "cell_type": "code",
   "execution_count": 31,
   "metadata": {},
   "outputs": [
    {
     "data": {
      "text/plain": [
       "'appyhay'"
      ]
     },
     "execution_count": 31,
     "metadata": {},
     "output_type": "execute_result"
    }
   ],
   "source": [
    "pigLatin('happy')"
   ]
  },
  {
   "cell_type": "code",
   "execution_count": 32,
   "metadata": {},
   "outputs": [
    {
     "data": {
      "text/plain": [
       "'enterway'"
      ]
     },
     "execution_count": 32,
     "metadata": {},
     "output_type": "execute_result"
    }
   ],
   "source": [
    "pigLatin('Enter')"
   ]
  },
  {
   "cell_type": "markdown",
   "metadata": {},
   "source": [
    "# Question 5\n",
    "File bloodtype1.txt records blood-types of patients (A, B, AB, O or OO) at a clinic. Write a function bldcount() that reads the file with name name and reports (i.e., prints) how many patients there are in each bloodtype."
   ]
  },
  {
   "cell_type": "code",
   "execution_count": 33,
   "metadata": {},
   "outputs": [],
   "source": [
    "def bloodCount(filename): #defining a function that gives the no of patients for each blood group\n",
    "    filename = open(\"bloodtype1.txt\", \"r\") #opening the file bloodtype1.txt, which has the blood groups\n",
    "    string = (filename.readline()) #this command reads the line in the file\n",
    "    string1 = string.split() #this splits the line into individual strings and is stored in variable \"string1\"\n",
    "    x=string1.count('AB') #couning the no of specified bllood type  in the file\n",
    "    y=string1.count('A')\n",
    "    z=string1.count('B')\n",
    "    x1=string1.count('O')\n",
    "    y1=string1.count('OO')\n",
    "    print (x, \"patients have blood type AB\") #printing the no of patients with each blood type\n",
    "    print (y, \"patients have blood type A\")\n",
    "    print (z, \"patients have blood type B\")\n",
    "    print (x1, \"patients have blood type O\")\n",
    "    print (y1, \"patients have blood type OO\")"
   ]
  },
  {
   "cell_type": "code",
   "execution_count": 34,
   "metadata": {},
   "outputs": [
    {
     "name": "stdout",
     "output_type": "stream",
     "text": [
      "13 patients have blood type AB\n",
      "15 patients have blood type A\n",
      "1 patients have blood type B\n",
      "15 patients have blood type O\n",
      "0 patients have blood type OO\n"
     ]
    }
   ],
   "source": [
    "bloodCount('bloodtype1.txt')"
   ]
  },
  {
   "cell_type": "markdown",
   "metadata": {},
   "source": [
    "# Question 6"
   ]
  },
  {
   "cell_type": "markdown",
   "metadata": {},
   "source": [
    "Write a function curconv() that takes as input:\n",
    "1. a currency represented using a string (e.g., 'JPY' for the Japanese Yen or 'EUR' for the Euro)\n",
    "2. an amount"
   ]
  },
  {
   "cell_type": "markdown",
   "metadata": {},
   "source": [
    "and then converts and returns the amount in US dollars."
   ]
  },
  {
   "cell_type": "code",
   "execution_count": 35,
   "metadata": {},
   "outputs": [],
   "source": [
    "def curconv(currency,amount): #defining a function that gives converted amount in USD\n",
    "    with open (\"currency.txt\", \"r\") as file: #opening the currency.txt file\n",
    "        for line in file.readlines(): #initiating a loop that reads each line in the file\n",
    "            for i in line.split(): #this loop splits each line read in the above loop, into individual strings\n",
    "                if (i == currency): #if statement checks whether the input provided by the user matches the currency name in the file\n",
    "                    x = float(line.split()[1]) #index 1 has the conversion rate in the file and is assigned as to xas float\n",
    "                    print(amount * x) #prints the converted amount which is a product of amount entered by user and the conversion rate in the file"
   ]
  },
  {
   "cell_type": "code",
   "execution_count": 36,
   "metadata": {},
   "outputs": [
    {
     "name": "stdout",
     "output_type": "stream",
     "text": [
      "122.96544\n"
     ]
    }
   ],
   "source": [
    "curconv('EUR',100)"
   ]
  },
  {
   "cell_type": "code",
   "execution_count": 37,
   "metadata": {},
   "outputs": [
    {
     "name": "stdout",
     "output_type": "stream",
     "text": [
      "1.241401\n"
     ]
    }
   ],
   "source": [
    "curconv('JPY',100)"
   ]
  },
  {
   "cell_type": "code",
   "execution_count": 38,
   "metadata": {},
   "outputs": [
    {
     "name": "stdout",
     "output_type": "stream",
     "text": [
      "103.45157\n"
     ]
    }
   ],
   "source": [
    "curconv('AUD',100)"
   ]
  },
  {
   "cell_type": "markdown",
   "metadata": {},
   "source": [
    "# Question 7\n",
    "Each of the following will cause an exception (an error). Identify what type of exception each will cause."
   ]
  },
  {
   "cell_type": "code",
   "execution_count": 42,
   "metadata": {},
   "outputs": [
    {
     "ename": "TypeError",
     "evalue": "unsupported operand type(s) for +: 'int' and 'str'",
     "output_type": "error",
     "traceback": [
      "\u001b[1;31m---------------------------------------------------------------------------\u001b[0m",
      "\u001b[1;31mTypeError\u001b[0m                                 Traceback (most recent call last)",
      "\u001b[1;32m<ipython-input-42-14c36d8eae3f>\u001b[0m in \u001b[0;36m<module>\u001b[1;34m\u001b[0m\n\u001b[0;32m      1\u001b[0m \u001b[1;31m#Trying to add incompatible variables, as in adding 6 + ‘a’\u001b[0m\u001b[1;33m\u001b[0m\u001b[1;33m\u001b[0m\u001b[1;33m\u001b[0m\u001b[0m\n\u001b[1;32m----> 2\u001b[1;33m \u001b[1;36m6\u001b[0m\u001b[1;33m+\u001b[0m\u001b[1;34m'a'\u001b[0m\u001b[1;33m\u001b[0m\u001b[1;33m\u001b[0m\u001b[0m\n\u001b[0m",
      "\u001b[1;31mTypeError\u001b[0m: unsupported operand type(s) for +: 'int' and 'str'"
     ]
    }
   ],
   "source": [
    "6+'a'"
   ]
  },
  {
   "cell_type": "markdown",
   "metadata": {},
   "source": [
    "# Trying to add incompatible variables, as in adding 6 + ‘a’ \n",
    "Gives \"TypeError: unsupported operand type(s) for +: 'int' and 'str'\""
   ]
  },
  {
   "cell_type": "code",
   "execution_count": 43,
   "metadata": {},
   "outputs": [
    {
     "ename": "IndexError",
     "evalue": "list index out of range",
     "output_type": "error",
     "traceback": [
      "\u001b[1;31m---------------------------------------------------------------------------\u001b[0m",
      "\u001b[1;31mIndexError\u001b[0m                                Traceback (most recent call last)",
      "\u001b[1;32m<ipython-input-43-ad90a340ff93>\u001b[0m in \u001b[0;36m<module>\u001b[1;34m\u001b[0m\n\u001b[0;32m      1\u001b[0m \u001b[0mnumberList\u001b[0m \u001b[1;33m=\u001b[0m \u001b[0mlist\u001b[0m\u001b[1;33m(\u001b[0m\u001b[0mrange\u001b[0m\u001b[1;33m(\u001b[0m\u001b[1;36m1\u001b[0m\u001b[1;33m,\u001b[0m\u001b[1;36m11\u001b[0m\u001b[1;33m)\u001b[0m\u001b[1;33m)\u001b[0m\u001b[1;33m\u001b[0m\u001b[1;33m\u001b[0m\u001b[0m\n\u001b[1;32m----> 2\u001b[1;33m \u001b[0mnumberList\u001b[0m\u001b[1;33m[\u001b[0m\u001b[1;36m12\u001b[0m\u001b[1;33m]\u001b[0m\u001b[1;33m\u001b[0m\u001b[1;33m\u001b[0m\u001b[0m\n\u001b[0m",
      "\u001b[1;31mIndexError\u001b[0m: list index out of range"
     ]
    }
   ],
   "source": [
    "numberList = list(range(1,11))\n",
    "numberList[12]"
   ]
  },
  {
   "cell_type": "markdown",
   "metadata": {},
   "source": [
    "# Referring to the 12th item of a list that has only 10 items\n",
    "Gives \"IndexError: list index out of range\""
   ]
  },
  {
   "cell_type": "code",
   "execution_count": 46,
   "metadata": {},
   "outputs": [
    {
     "ename": "ValueError",
     "evalue": "math domain error",
     "output_type": "error",
     "traceback": [
      "\u001b[1;31m---------------------------------------------------------------------------\u001b[0m",
      "\u001b[1;31mValueError\u001b[0m                                Traceback (most recent call last)",
      "\u001b[1;32m<ipython-input-46-8956a835fc63>\u001b[0m in \u001b[0;36m<module>\u001b[1;34m\u001b[0m\n\u001b[0;32m      1\u001b[0m \u001b[1;32mimport\u001b[0m \u001b[0mmath\u001b[0m\u001b[1;33m\u001b[0m\u001b[1;33m\u001b[0m\u001b[0m\n\u001b[1;32m----> 2\u001b[1;33m \u001b[0mmath\u001b[0m\u001b[1;33m.\u001b[0m\u001b[0msqrt\u001b[0m\u001b[1;33m(\u001b[0m\u001b[1;33m-\u001b[0m\u001b[1;36m1\u001b[0m\u001b[1;33m)\u001b[0m\u001b[1;33m\u001b[0m\u001b[1;33m\u001b[0m\u001b[0m\n\u001b[0m",
      "\u001b[1;31mValueError\u001b[0m: math domain error"
     ]
    }
   ],
   "source": [
    "import math\n",
    "math.sqrt(-1)"
   ]
  },
  {
   "cell_type": "markdown",
   "metadata": {},
   "source": [
    "# Using a value that is out of range for a function’s input, such as calling math.sqrt(-1.0)\n",
    "Gives \"ValueError: math domain error\""
   ]
  },
  {
   "cell_type": "code",
   "execution_count": 55,
   "metadata": {},
   "outputs": [
    {
     "ename": "NameError",
     "evalue": "name 'z' is not defined",
     "output_type": "error",
     "traceback": [
      "\u001b[1;31m---------------------------------------------------------------------------\u001b[0m",
      "\u001b[1;31mNameError\u001b[0m                                 Traceback (most recent call last)",
      "\u001b[1;32m<ipython-input-55-c01ac3f50fdc>\u001b[0m in \u001b[0;36m<module>\u001b[1;34m\u001b[0m\n\u001b[1;32m----> 1\u001b[1;33m \u001b[0mprint\u001b[0m\u001b[1;33m(\u001b[0m\u001b[0mz\u001b[0m\u001b[1;33m)\u001b[0m\u001b[1;33m\u001b[0m\u001b[1;33m\u001b[0m\u001b[0m\n\u001b[0m",
      "\u001b[1;31mNameError\u001b[0m: name 'z' is not defined"
     ]
    }
   ],
   "source": [
    "print(z)"
   ]
  },
  {
   "cell_type": "markdown",
   "metadata": {},
   "source": [
    "# Using an undeclared variable, such as print(x) when x has not been defined \n",
    "Gives \"NameError: name 'z' is not defined\""
   ]
  },
  {
   "cell_type": "code",
   "execution_count": 56,
   "metadata": {},
   "outputs": [
    {
     "ename": "FileNotFoundError",
     "evalue": "[Errno 2] No such file or directory: 'BloodType.txt'",
     "output_type": "error",
     "traceback": [
      "\u001b[1;31m---------------------------------------------------------------------------\u001b[0m",
      "\u001b[1;31mFileNotFoundError\u001b[0m                         Traceback (most recent call last)",
      "\u001b[1;32m<ipython-input-56-5404fd7d63ca>\u001b[0m in \u001b[0;36m<module>\u001b[1;34m\u001b[0m\n\u001b[1;32m----> 1\u001b[1;33m \u001b[0mf\u001b[0m\u001b[1;33m=\u001b[0m\u001b[0mopen\u001b[0m\u001b[1;33m(\u001b[0m\u001b[1;34m\"BloodType.txt\"\u001b[0m\u001b[1;33m,\u001b[0m \u001b[1;34m\"r\"\u001b[0m\u001b[1;33m)\u001b[0m\u001b[1;33m\u001b[0m\u001b[1;33m\u001b[0m\u001b[0m\n\u001b[0m",
      "\u001b[1;31mFileNotFoundError\u001b[0m: [Errno 2] No such file or directory: 'BloodType.txt'"
     ]
    }
   ],
   "source": [
    "f=open(\"BloodType.txt\", \"r\")"
   ]
  },
  {
   "cell_type": "markdown",
   "metadata": {},
   "source": [
    "# Trying to open a file that does not exist, such as mistyping the file name or looking in the wrong directory. \n",
    "Gives \" FileNotFoundError: [Errno 2] No such file or directory: 'BloodType.txt' \""
   ]
  },
  {
   "cell_type": "markdown",
   "metadata": {},
   "source": [
    "# __________________________________________________________________"
   ]
  },
  {
   "cell_type": "markdown",
   "metadata": {},
   "source": [
    "# Question 8\n",
    " Write a function called frequencies() that takes a string as its only parameter, and returns a list of integers, showing the number of times each character appears in the text. Your function may ignore any characters that are not in letters. "
   ]
  },
  {
   "cell_type": "code",
   "execution_count": 65,
   "metadata": {},
   "outputs": [],
   "source": [
    "def frequency(string): #defining a function which gives us the frequency of letters in string compared to all alphabets\n",
    "    alphabet = []\n",
    "    for x in range(0,26): \n",
    "        alphabet.append(0)\n",
    "\n",
    "    for letters in string:\n",
    "        loc = order(letters)\n",
    "        if(loc != -1):\n",
    "            alphabet[loc] += 1\n",
    "    return alphabet\n",
    "\n",
    "def order(y): #defining another function which reads the individual letters and compares them with all alphabets\n",
    "    if(y>='a' and y<='z'): #checking if the value in y is between a & z\n",
    "        loc = ord(y) - ord('a') \n",
    "        return loc\n",
    "    else:\n",
    "        return -1"
   ]
  },
  {
   "cell_type": "code",
   "execution_count": 66,
   "metadata": {},
   "outputs": [
    {
     "data": {
      "text/plain": [
       "[1, 0, 0, 0, 1, 0, 0, 0, 0, 0, 0, 1, 0, 0, 0, 2, 0, 0, 0, 0, 0, 0, 0, 0, 0, 0]"
      ]
     },
     "execution_count": 66,
     "metadata": {},
     "output_type": "execute_result"
    }
   ],
   "source": [
    "frequency('apple')"
   ]
  },
  {
   "cell_type": "code",
   "execution_count": 67,
   "metadata": {},
   "outputs": [
    {
     "data": {
      "text/plain": [
       "[1, 1, 1, 3, 5, 1, 1, 2, 1, 0, 1, 0, 1, 2, 4, 0, 1, 2, 0, 2, 1, 0, 1, 1, 0, 0]"
      ]
     },
     "execution_count": 67,
     "metadata": {},
     "output_type": "execute_result"
    }
   ],
   "source": [
    "frequency('The quick red fox got bored and went home.')"
   ]
  },
  {
   "cell_type": "markdown",
   "metadata": {},
   "source": [
    "# Question 9\n",
    "The Sieve of Erastophenes"
   ]
  },
  {
   "cell_type": "code",
   "execution_count": 76,
   "metadata": {},
   "outputs": [],
   "source": [
    "def sieve(number): #defining a function which gives the sieve algorithm output\n",
    "    i = []\n",
    "    for x in range(2,number + 1):\n",
    "        i.append(x)\n",
    "        \n",
    "    prime_num = []\n",
    "    while(len(i) > 0):\n",
    "        num = i[0]\n",
    "        prime_num.append(num)\n",
    "        \n",
    "        j = 0\n",
    "        for numbers in i:\n",
    "            if(numbers % num == 0):\n",
    "                i.pop(j)\n",
    "            j += 1\n",
    "    return prime_num"
   ]
  },
  {
   "cell_type": "code",
   "execution_count": 77,
   "metadata": {},
   "outputs": [
    {
     "data": {
      "text/plain": [
       "[2, 3, 5, 7, 11, 13, 17, 19, 23, 29, 31, 37, 41, 43, 47, 53]"
      ]
     },
     "execution_count": 77,
     "metadata": {},
     "output_type": "execute_result"
    }
   ],
   "source": [
    "sieve(56)"
   ]
  },
  {
   "cell_type": "code",
   "execution_count": 78,
   "metadata": {},
   "outputs": [
    {
     "data": {
      "text/plain": [
       "[2,\n",
       " 3,\n",
       " 5,\n",
       " 7,\n",
       " 11,\n",
       " 13,\n",
       " 17,\n",
       " 19,\n",
       " 23,\n",
       " 29,\n",
       " 31,\n",
       " 37,\n",
       " 41,\n",
       " 43,\n",
       " 47,\n",
       " 53,\n",
       " 59,\n",
       " 61,\n",
       " 67,\n",
       " 71,\n",
       " 73,\n",
       " 79,\n",
       " 83,\n",
       " 89,\n",
       " 97,\n",
       " 101,\n",
       " 103,\n",
       " 107,\n",
       " 109,\n",
       " 113,\n",
       " 127,\n",
       " 131,\n",
       " 137,\n",
       " 139,\n",
       " 149,\n",
       " 151,\n",
       " 157,\n",
       " 163,\n",
       " 167,\n",
       " 173,\n",
       " 179,\n",
       " 181,\n",
       " 191,\n",
       " 193,\n",
       " 197,\n",
       " 199,\n",
       " 211,\n",
       " 223,\n",
       " 227,\n",
       " 229,\n",
       " 233,\n",
       " 239,\n",
       " 241,\n",
       " 251,\n",
       " 257,\n",
       " 263,\n",
       " 269,\n",
       " 271,\n",
       " 277,\n",
       " 281,\n",
       " 283,\n",
       " 293,\n",
       " 307,\n",
       " 311,\n",
       " 313,\n",
       " 317,\n",
       " 331,\n",
       " 337,\n",
       " 347,\n",
       " 349,\n",
       " 353,\n",
       " 359,\n",
       " 367]"
      ]
     },
     "execution_count": 78,
     "metadata": {},
     "output_type": "execute_result"
    }
   ],
   "source": [
    "sieve(368)"
   ]
  },
  {
   "cell_type": "code",
   "execution_count": 79,
   "metadata": {},
   "outputs": [
    {
     "data": {
      "text/plain": [
       "[2, 3, 5, 7, 11, 13, 17, 19, 23, 29, 31]"
      ]
     },
     "execution_count": 79,
     "metadata": {},
     "output_type": "execute_result"
    }
   ],
   "source": [
    "sieve(32)"
   ]
  },
  {
   "cell_type": "markdown",
   "metadata": {},
   "source": [
    "# Question 10\n",
    "Implement function triangleArea(a,b,c) that takes as input the lengths of the 3 sides of a triangle and returns the area of the triangle. By Heron's formula, the area of a triangle with side lengths a, b, and c is s(s - a)(s -b)(s -c), wheren s = (a+b+c)/2."
   ]
  },
  {
   "cell_type": "code",
   "execution_count": 74,
   "metadata": {},
   "outputs": [],
   "source": [
    "def  triangleArea(a,b,c): #defining a function which gives the area of the triangle\n",
    "    S=(a+b+c)/2 #appending the value of s to a variable 'S'\n",
    "    import math #importing math library\n",
    "    a = math.sqrt(S*(S-a)*(S -b)*(S -c)) #'a' area is calculated using the formula and we use math.sqrt function from math library\n",
    "    print('Area of the triangle is: ', a) #print the area of the triangle which is in variable 'a'"
   ]
  },
  {
   "cell_type": "code",
   "execution_count": 75,
   "metadata": {},
   "outputs": [
    {
     "name": "stdout",
     "output_type": "stream",
     "text": [
      "Area of the triangle is:  1.7320508075688772\n"
     ]
    }
   ],
   "source": [
    "triangleArea(2,2,2)"
   ]
  },
  {
   "cell_type": "code",
   "execution_count": null,
   "metadata": {},
   "outputs": [],
   "source": []
  }
 ],
 "metadata": {
  "kernelspec": {
   "display_name": "Python 3",
   "language": "python",
   "name": "python3"
  },
  "language_info": {
   "codemirror_mode": {
    "name": "ipython",
    "version": 3
   },
   "file_extension": ".py",
   "mimetype": "text/x-python",
   "name": "python",
   "nbconvert_exporter": "python",
   "pygments_lexer": "ipython3",
   "version": "3.8.3"
  }
 },
 "nbformat": 4,
 "nbformat_minor": 4
}
